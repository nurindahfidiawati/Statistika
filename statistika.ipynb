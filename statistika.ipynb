{
  "nbformat": 4,
  "nbformat_minor": 0,
  "metadata": {
    "colab": {
      "name": "statistika.ipynb",
      "provenance": [],
      "collapsed_sections": [],
      "include_colab_link": true
    },
    "kernelspec": {
      "name": "python3",
      "display_name": "Python 3"
    },
    "language_info": {
      "name": "python"
    }
  },
  "cells": [
    {
      "cell_type": "markdown",
      "metadata": {
        "id": "view-in-github",
        "colab_type": "text"
      },
      "source": [
        "<a href=\"https://colab.research.google.com/github/nurindahfidiawati/Statistika/blob/master/statistika.ipynb\" target=\"_parent\"><img src=\"https://colab.research.google.com/assets/colab-badge.svg\" alt=\"Open In Colab\"/></a>"
      ]
    },
    {
      "cell_type": "markdown",
      "metadata": {
        "id": "3g42Zezkx-VY"
      },
      "source": [
        "# Grafik Pertama hasil Perhitungan distribusi binomial\n",
        "\n",
        "tabel 4\n"
      ]
    },
    {
      "cell_type": "code",
      "metadata": {
        "colab": {
          "base_uri": "https://localhost:8080/"
        },
        "id": "3dJ1xomSvgjP",
        "outputId": "2c3cee2f-13f2-467f-d523-edcaabe08da4"
      },
      "source": [
        "#Sangat puas\n",
        "\n",
        "import numpy as np\n",
        "from scipy.stats import binom\n",
        "n = 30 \n",
        "p = 0.3 \n",
        "r_values = list(range(n + 1))\n",
        "dist = [binom.pmf(r, n, p) for r in r_values ]\n",
        "print(\"r\\tp(r)\")\n",
        "for i in range(n + 1):\n",
        " print(str(r_values[i]) + \"\\t\" + str(dist[i]))\n"
      ],
      "execution_count": null,
      "outputs": [
        {
          "output_type": "stream",
          "text": [
            "r\tp(r)\n",
            "0\t2.253934029069229e-05\n",
            "1\t0.0002897915180231871\n",
            "2\t0.0018008472905726364\n",
            "3\t0.007203389162290643\n",
            "4\t0.020838375790912016\n",
            "5\t0.046439808905461295\n",
            "6\t0.08292823018832367\n",
            "7\t0.12185372599100541\n",
            "8\t0.1501411980960605\n",
            "9\t0.1572907789577779\n",
            "10\t0.14156170106200028\n",
            "11\t0.11030781900935062\n",
            "12\t0.07485173432777353\n",
            "13\t0.044417512678019674\n",
            "14\t0.023115236189581483\n",
            "15\t0.01056696511523725\n",
            "16\t0.004245655626657825\n",
            "17\t0.0014984666917615976\n",
            "18\t0.00046381111887858765\n",
            "19\t0.00012554285924533187\n",
            "20\t2.9592245393542618e-05\n",
            "21\t6.039233753784191e-06\n",
            "22\t1.0588266970920313e-06\n",
            "23\t1.5783752006340832e-07\n",
            "24\t1.9729690007926107e-08\n",
            "25\t2.0293395436724e-09\n",
            "26\t1.6725325909387804e-10\n",
            "27\t1.0619254545643156e-11\n",
            "28\t4.876188311774859e-13\n",
            "29\t1.4412379246625412e-14\n",
            "30\t2.0589113209464814e-16\n"
          ],
          "name": "stdout"
        }
      ]
    },
    {
      "cell_type": "code",
      "metadata": {
        "colab": {
          "base_uri": "https://localhost:8080/"
        },
        "id": "O5fK9Qz7xEI1",
        "outputId": "421d167d-2abd-451f-bde1-9b3168eebd53"
      },
      "source": [
        "#Puas\n",
        "\n",
        "import numpy as np\n",
        "from scipy.stats import binom\n",
        "n = 30 \n",
        "p = 0.5 \n",
        "r_values = list(range(n + 1))\n",
        "dist = [binom.pmf(r, n, p) for r in r_values ]\n",
        "print(\"r\\tp(r)\")\n",
        "for i in range(n + 1):\n",
        " print(str(r_values[i]) + \"\\t\" + str(dist[i]))\n"
      ],
      "execution_count": null,
      "outputs": [
        {
          "output_type": "stream",
          "text": [
            "r\tp(r)\n",
            "0\t9.313225746154793e-10\n",
            "1\t2.7939677238464445e-08\n",
            "2\t4.051253199577282e-07\n",
            "3\t3.7811696529388466e-06\n",
            "4\t2.5522895157336985e-05\n",
            "5\t0.00013271905481815284\n",
            "6\t0.0005529960617423039\n",
            "7\t0.001895986497402174\n",
            "8\t0.005450961180031248\n",
            "9\t0.01332457177340976\n",
            "10\t0.027981600724160505\n",
            "11\t0.05087563768029179\n",
            "12\t0.08055309299379536\n",
            "13\t0.11153505183756332\n",
            "14\t0.13543542008846865\n",
            "15\t0.14446444809436654\n",
            "16\t0.13543542008846865\n",
            "17\t0.11153505183756332\n",
            "18\t0.08055309299379536\n",
            "19\t0.05087563768029175\n",
            "20\t0.02798160072416053\n",
            "21\t0.01332457177340975\n",
            "22\t0.005450961180031254\n",
            "23\t0.0018959864974021723\n",
            "24\t0.0005529960617423045\n",
            "25\t0.00013271905481815284\n",
            "26\t2.5522895157336985e-05\n",
            "27\t3.7811696529388466e-06\n",
            "28\t4.051253199577282e-07\n",
            "29\t2.7939677238464445e-08\n",
            "30\t9.313225746154793e-10\n"
          ],
          "name": "stdout"
        }
      ]
    },
    {
      "cell_type": "code",
      "metadata": {
        "colab": {
          "base_uri": "https://localhost:8080/"
        },
        "id": "mUA5uGHWxSO3",
        "outputId": "b4991cc5-1f13-434c-88e7-699c67f7218e"
      },
      "source": [
        "#Cukup Puas\n",
        "\n",
        "import numpy as np\n",
        "from scipy.stats import binom\n",
        "n = 30 \n",
        "p = 0.16 \n",
        "r_values = list(range(n + 1))\n",
        "dist = [binom.pmf(r, n, p) for r in r_values ]\n",
        "print(\"r\\tp(r)\")\n",
        "for i in range(n + 1):\n",
        " print(str(r_values[i]) + \"\\t\" + str(dist[i]))\n"
      ],
      "execution_count": null,
      "outputs": [
        {
          "output_type": "stream",
          "text": [
            "r\tp(r)\n",
            "0\t0.00535030551368316\n",
            "1\t0.030573174363903857\n",
            "2\t0.08444019586220933\n",
            "3\t0.15011590375504102\n",
            "4\t0.1930061619707649\n",
            "5\t0.191168008047235\n",
            "6\t0.15172064130732918\n",
            "7\t0.0990828677925409\n",
            "8\t0.05425966569591532\n",
            "9\t0.025263759689103424\n",
            "10\t0.010105503875641408\n",
            "11\t0.003499741601953731\n",
            "12\t0.001055477625986044\n",
            "13\t0.0002783677255347818\n",
            "14\t6.438437189239803e-05\n",
            "15\t1.3081269209884073e-05\n",
            "16\t2.3359409303364393e-06\n",
            "17\t3.6642210671944335e-07\n",
            "18\t5.04072739402405e-08\n",
            "19\t6.064032955216947e-09\n",
            "20\t6.352796429274894e-10\n",
            "21\t5.762173631995341e-11\n",
            "22\t4.490005427528865e-12\n",
            "23\t2.974744796706481e-13\n",
            "24\t1.652635998170272e-14\n",
            "25\t7.554907420206944e-16\n",
            "26\t2.7673653553871346e-17\n",
            "27\t7.809143859999141e-19\n",
            "28\t1.5937028285712247e-20\n",
            "29\t2.0935340933612408e-22\n",
            "30\t1.3292279957849173e-24\n"
          ],
          "name": "stdout"
        }
      ]
    },
    {
      "cell_type": "code",
      "metadata": {
        "colab": {
          "base_uri": "https://localhost:8080/"
        },
        "id": "WZ87mBNQxYhE",
        "outputId": "a0274bf2-8b8e-4947-d80b-467f57b75d1e"
      },
      "source": [
        "#Tidak Puas\n",
        "\n",
        "import numpy as np\n",
        "from scipy.stats import binom\n",
        "n = 30 \n",
        "p = 0.04\n",
        "r_values = list(range(n + 1))\n",
        "dist = [binom.pmf(r, n, p) for r in r_values ]\n",
        "print(\"r\\tp(r)\")\n",
        "for i in range(n + 1):\n",
        " print(str(r_values[i]) + \"\\t\" + str(dist[i]))\n"
      ],
      "execution_count": null,
      "outputs": [
        {
          "output_type": "stream",
          "text": [
            "r\tp(r)\n",
            "0\t0.2938576432307058\n",
            "1\t0.36732205403838314\n",
            "2\t0.22192374098151976\n",
            "3\t0.08630367704837012\n",
            "4\t0.024272909169853845\n",
            "5\t0.005259130320135027\n",
            "6\t0.0009130434583567756\n",
            "7\t0.0001304347797652526\n",
            "8\t1.5624999659379273e-05\n",
            "9\t1.591435150492339e-06\n",
            "10\t1.3925057566807948e-07\n",
            "11\t1.0549286035460582e-08\n",
            "12\t6.959598426171914e-10\n",
            "13\t4.015152938176125e-11\n",
            "14\t2.0314761889581352e-12\n",
            "15\t9.028783062036159e-14\n",
            "16\t3.5268683836078884e-15\n",
            "17\t1.2101999355517324e-16\n",
            "18\t3.641805361614006e-18\n",
            "19\t9.583698320036826e-20\n",
            "20\t2.196264198341771e-21\n",
            "21\t4.3576670602019653e-23\n",
            "22\t7.427841579889679e-25\n",
            "23\t1.0764987796941437e-26\n",
            "24\t1.308245044767201e-28\n",
            "25\t1.3082450447672076e-30\n",
            "26\t1.0482732730506526e-32\n",
            "27\t6.470822673152134e-35\n",
            "28\t2.8887601219428637e-37\n",
            "29\t8.301034833169369e-40\n",
            "30\t1.1529215046068503e-42\n"
          ],
          "name": "stdout"
        }
      ]
    },
    {
      "cell_type": "code",
      "metadata": {
        "colab": {
          "base_uri": "https://localhost:8080/"
        },
        "id": "aXJjwonfxg2r",
        "outputId": "b1dc1bd0-ab52-4273-a65b-0ad319187f4d"
      },
      "source": [
        "#Sangat Tidak Puas\n",
        "\n",
        "import numpy as np\n",
        "from scipy.stats import binom\n",
        "n = 30 \n",
        "p = 0\n",
        "r_values = list(range(n + 1))\n",
        "dist = [binom.pmf(r, n, p) for r in r_values ]\n",
        "print(\"r\\tp(r)\")\n",
        "for i in range(n + 1):\n",
        " print(str(r_values[i]) + \"\\t\" + str(dist[i]))\n"
      ],
      "execution_count": null,
      "outputs": [
        {
          "output_type": "stream",
          "text": [
            "r\tp(r)\n",
            "0\t1.0\n",
            "1\t0.0\n",
            "2\t0.0\n",
            "3\t0.0\n",
            "4\t0.0\n",
            "5\t0.0\n",
            "6\t0.0\n",
            "7\t0.0\n",
            "8\t0.0\n",
            "9\t0.0\n",
            "10\t0.0\n",
            "11\t0.0\n",
            "12\t0.0\n",
            "13\t0.0\n",
            "14\t0.0\n",
            "15\t0.0\n",
            "16\t0.0\n",
            "17\t0.0\n",
            "18\t0.0\n",
            "19\t0.0\n",
            "20\t0.0\n",
            "21\t0.0\n",
            "22\t0.0\n",
            "23\t0.0\n",
            "24\t0.0\n",
            "25\t0.0\n",
            "26\t0.0\n",
            "27\t0.0\n",
            "28\t0.0\n",
            "29\t0.0\n",
            "30\t0.0\n"
          ],
          "name": "stdout"
        }
      ]
    },
    {
      "cell_type": "markdown",
      "metadata": {
        "id": "tiUpaWdqIcnC"
      },
      "source": [
        "tabel 5"
      ]
    },
    {
      "cell_type": "code",
      "metadata": {
        "colab": {
          "base_uri": "https://localhost:8080/"
        },
        "id": "0GFihzfzIgPY",
        "outputId": "74101247-08e9-4324-eeeb-3ea961f8bd56"
      },
      "source": [
        "#Sangat Puas\n",
        "\n",
        "import numpy as np\n",
        "from scipy.stats import binom\n",
        "n = 10\n",
        "p = 0.288\n",
        "r_values = list(range(n + 1))\n",
        "dist = [binom.pmf(r, n, p) for r in r_values ]\n",
        "print(\"r\\tp(r)\")\n",
        "for i in range(n + 1):\n",
        " print(str(r_values[i]) + \"\\t\" + str(dist[i]))\n"
      ],
      "execution_count": null,
      "outputs": [
        {
          "output_type": "stream",
          "text": [
            "r\tp(r)\n",
            "0\t0.03348111683305906\n",
            "1\t0.13542923662810413\n",
            "2\t0.2465116441994702\n",
            "3\t0.26590020048482205\n",
            "4\t0.188221490230829\n",
            "5\t0.09136144244912149\n",
            "6\t0.030795991836782534\n",
            "7\t0.007118174678164824\n",
            "8\t0.0010797231253396064\n",
            "9\t9.705376407547037e-05\n",
            "10\t3.92577023226621e-06\n"
          ],
          "name": "stdout"
        }
      ]
    },
    {
      "cell_type": "code",
      "metadata": {
        "colab": {
          "base_uri": "https://localhost:8080/"
        },
        "id": "fNbe2YNvI7Ji",
        "outputId": "9d8235d9-d1b9-4e2f-a3e6-0fe395cc44e3"
      },
      "source": [
        "#Sangat Puas\n",
        "\n",
        "import numpy as np\n",
        "from scipy.stats import binom\n",
        "n = 28 \n",
        "p = 0.3\n",
        "r_values = list(range(n + 1))\n",
        "dist = [binom.pmf(r, n, p) for r in r_values ]\n",
        "print(\"r\\tp(r)\")\n",
        "for i in range(n + 1):\n",
        " print(str(r_values[i]) + \"\\t\" + str(dist[i]))\n"
      ],
      "execution_count": null,
      "outputs": [
        {
          "output_type": "stream",
          "text": [
            "r\tp(r)\n",
            "0\t4.599865365447407e-05\n",
            "1\t0.0005519838438536955\n",
            "2\t0.0031936208108677847\n",
            "3\t0.011862020154651797\n",
            "4\t0.031773268271388606\n",
            "5\t0.06536215187257083\n",
            "6\t0.10738067807636634\n",
            "7\t0.14463519904163658\n",
            "8\t0.16271459892184123\n",
            "9\t0.1549662846874674\n",
            "10\t0.12618683181693827\n",
            "11\t0.08849466127421604\n",
            "12\t0.05372890148791687\n",
            "13\t0.028340519466153978\n",
            "14\t0.013013503836499235\n",
            "15\t0.005205401534599712\n",
            "16\t0.0018125951772266842\n",
            "17\t0.0005483481208416849\n",
            "18\t0.0001436149840299659\n",
            "19\t3.239435729999216e-05\n",
            "20\t6.247483193569931e-06\n",
            "21\t1.0199972560930497e-06\n",
            "22\t1.390905349217794e-07\n",
            "23\t1.5550494587528114e-08\n",
            "24\t1.388437016743575e-09\n",
            "25\t9.520710971955987e-11\n",
            "26\t4.708043887230978e-12\n",
            "27\t1.4946171070574655e-13\n",
            "28\t2.28767924549609e-15\n"
          ],
          "name": "stdout"
        }
      ]
    },
    {
      "cell_type": "code",
      "metadata": {
        "colab": {
          "base_uri": "https://localhost:8080/"
        },
        "id": "iubntKHpJaEe",
        "outputId": "6e98081b-3b9c-4e08-91b2-b1b25b71ce25"
      },
      "source": [
        "# Puas\n",
        "\n",
        "import numpy as np\n",
        "from scipy.stats import binom\n",
        "n = 28\n",
        "p = 0.5\n",
        "r_values = list(range(n + 1))\n",
        "dist = [binom.pmf(r, n, p) for r in r_values ]\n",
        "print(\"r\\tp(r)\")\n",
        "for i in range(n + 1):\n",
        " print(str(r_values[i]) + \"\\t\" + str(dist[i]))\n"
      ],
      "execution_count": null,
      "outputs": [
        {
          "output_type": "stream",
          "text": [
            "r\tp(r)\n",
            "0\t3.725290298461918e-09\n",
            "1\t1.0430812835693467e-07\n",
            "2\t1.4081597328186105e-06\n",
            "3\t1.2204051017761315e-05\n",
            "4\t7.627531886100795e-05\n",
            "5\t0.0003661215305328377\n",
            "6\t0.0014034658670425452\n",
            "7\t0.0044108927249908725\n",
            "8\t0.011578593403101032\n",
            "9\t0.025730207562446705\n",
            "10\t0.04888739436864885\n",
            "11\t0.07999755442142516\n",
            "12\t0.1133298687636858\n",
            "13\t0.13948291540145955\n",
            "14\t0.14944598078727758\n",
            "15\t0.13948291540145955\n",
            "16\t0.1133298687636858\n",
            "17\t0.07999755442142509\n",
            "18\t0.0488873943686489\n",
            "19\t0.02573020756244668\n",
            "20\t0.011578593403101042\n",
            "21\t0.004410892724990868\n",
            "22\t0.0014034658670425465\n",
            "23\t0.0003661215305328377\n",
            "24\t7.627531886100795e-05\n",
            "25\t1.2204051017761315e-05\n",
            "26\t1.4081597328186105e-06\n",
            "27\t1.0430812835693504e-07\n",
            "28\t3.725290298461918e-09\n"
          ],
          "name": "stdout"
        }
      ]
    },
    {
      "cell_type": "code",
      "metadata": {
        "colab": {
          "base_uri": "https://localhost:8080/"
        },
        "id": "AjigsnKjJ6T5",
        "outputId": "5c22e10c-125e-4f0d-e478-68208c0326f5"
      },
      "source": [
        "#Cukup Puas\n",
        "\n",
        "import numpy as np\n",
        "from scipy.stats import binom\n",
        "n = 28\n",
        "p = 0.16\n",
        "r_values = list(range(n + 1))\n",
        "dist = [binom.pmf(r, n, p) for r in r_values ]\n",
        "print(\"r\\tp(r)\")\n",
        "for i in range(n + 1):\n",
        " print(str(r_values[i]) + \"\\t\" + str(dist[i]))\n"
      ],
      "execution_count": null,
      "outputs": [
        {
          "output_type": "stream",
          "text": [
            "r\tp(r)\n",
            "0\t0.0075826325307301054\n",
            "1\t0.040440706830561064\n",
            "2\t0.10399038899287036\n",
            "3\t0.1716666738929931\n",
            "4\t0.20436508796784777\n",
            "5\t0.18684808042774656\n",
            "6\t0.13642875713771974\n",
            "7\t0.08167163692598205\n",
            "8\t0.04083581846299106\n",
            "9\t0.0172850025240173\n",
            "10\t0.006255524722977724\n",
            "11\t0.0019497739396294159\n",
            "12\t0.0005261294757730161\n",
            "13\t0.00012334170860612827\n",
            "14\t2.5171777266556768e-05\n",
            "15\t4.474982625165665e-06\n",
            "16\t6.925568348470658e-07\n",
            "17\t9.311688535758845e-08\n",
            "18\t1.0839002528396559e-08\n",
            "19\t1.0866167948267228e-09\n",
            "20\t9.313858241371943e-11\n",
            "21\t6.758355186483015e-12\n",
            "22\t4.095972840292746e-13\n",
            "23\t2.035266007598873e-14\n",
            "24\t8.076452411106611e-16\n",
            "25\t2.4613950205277525e-17\n",
            "26\t5.409659385775243e-19\n",
            "27\t7.632676382046298e-21\n",
            "28\t5.1922968585348155e-23\n"
          ],
          "name": "stdout"
        }
      ]
    },
    {
      "cell_type": "code",
      "metadata": {
        "colab": {
          "base_uri": "https://localhost:8080/"
        },
        "id": "OofDhpHpVJvK",
        "outputId": "5c15bff3-8743-4754-f252-8d28fdba886c"
      },
      "source": [
        "# Tidak Puas\n",
        "\n",
        "import numpy as np\n",
        "from scipy.stats import binom\n",
        "n = 28 \n",
        "p = 0.04\n",
        "r_values = list(range(n + 1))\n",
        "dist = [binom.pmf(r, n, p) for r in r_values ]\n",
        "print(\"r\\tp(r)\")\n",
        "for i in range(n + 1):\n",
        " print(str(r_values[i]) + \"\\t\" + str(dist[i]))\n"
      ],
      "execution_count": null,
      "outputs": [
        {
          "output_type": "stream",
          "text": [
            "r\tp(r)\n",
            "0\t0.3188559496860957\n",
            "1\t0.3719986079671164\n",
            "2\t0.2092492169815012\n",
            "3\t0.0755622172433202\n",
            "4\t0.019677660740447862\n",
            "5\t0.003935532148089574\n",
            "6\t0.0006285919403198635\n",
            "7\t8.231561123236312e-05\n",
            "8\t9.003269978539728e-06\n",
            "9\t8.336361091240481e-07\n",
            "10\t6.599619197232064e-08\n",
            "11\t4.499740361749115e-09\n",
            "12\t2.6560967413102554e-10\n",
            "13\t1.3621008929796197e-11\n",
            "14\t6.080807557944669e-13\n",
            "15\t2.3647584947562773e-14\n",
            "16\t8.005692820789476e-16\n",
            "17\t2.3546155355263226e-17\n",
            "18\t5.995548817312404e-19\n",
            "19\t1.3148133371299037e-20\n",
            "20\t2.465275007118586e-22\n",
            "21\t3.913134931934275e-24\n",
            "22\t5.187868280973443e-26\n",
            "23\t5.638987261927635e-28\n",
            "24\t4.894954220423346e-30\n",
            "25\t3.263302813615501e-32\n",
            "26\t1.5688955834690134e-34\n",
            "27\t4.8422703193488345e-37\n",
            "28\t7.205759403792792e-40\n"
          ],
          "name": "stdout"
        }
      ]
    },
    {
      "cell_type": "code",
      "metadata": {
        "colab": {
          "base_uri": "https://localhost:8080/"
        },
        "id": "ksg27kDLVj5F",
        "outputId": "683b7c9b-9b24-4f8f-8b28-cfdca2c296c3"
      },
      "source": [
        "# Sangat tidak Puas\n",
        "\n",
        "import numpy as np\n",
        "from scipy.stats import binom\n",
        "n = 18\n",
        "p = 0.0\n",
        "r_values = list(range(n + 1))\n",
        "dist = [binom.pmf(r, n, p) for r in r_values ]\n",
        "print(\"r\\tp(r)\")\n",
        "for i in range(n + 1):\n",
        " print(str(r_values[i]) + \"\\t\" + str(dist[i]))\n"
      ],
      "execution_count": null,
      "outputs": [
        {
          "output_type": "stream",
          "text": [
            "r\tp(r)\n",
            "0\t1.0\n",
            "1\t0.0\n",
            "2\t0.0\n",
            "3\t0.0\n",
            "4\t0.0\n",
            "5\t0.0\n",
            "6\t0.0\n",
            "7\t0.0\n",
            "8\t0.0\n",
            "9\t0.0\n",
            "10\t0.0\n",
            "11\t0.0\n",
            "12\t0.0\n",
            "13\t0.0\n",
            "14\t0.0\n",
            "15\t0.0\n",
            "16\t0.0\n",
            "17\t0.0\n",
            "18\t0.0\n"
          ],
          "name": "stdout"
        }
      ]
    },
    {
      "cell_type": "code",
      "metadata": {
        "colab": {
          "base_uri": "https://localhost:8080/"
        },
        "id": "bIkU9V894rFa",
        "outputId": "36d000c4-741d-4b07-b35a-688a28c4ee3b"
      },
      "source": [
        "\n",
        "\n",
        "# import numpy as np\n",
        "# from scipy.stats import binom\n",
        "# n = 30 \n",
        "# p = 0.04\n",
        "# r_values = list(range(n + 1))\n",
        "\n",
        "# dist = [binom.pmf(r, n, p) for r in r_values ]\n",
        "# x = 0\n",
        "# print(\"r\\tp(r)\")\n",
        "# for i in range(n + 1):\n",
        "#   a = float(dist[i])\n",
        "#   if i % 2 == 1 :\n",
        "#     b = float(dist[i]) + c\n",
        "#     print(b)\n",
        "#   else :\n",
        "#     c = a\n",
        "#     x = a + b\n",
        "#     print(x)\n",
        "  "
      ],
      "execution_count": null,
      "outputs": [
        {
          "output_type": "stream",
          "text": [
            "r\tp(r)\n",
            "0.2938576432307058\n",
            "0.6611796972690889\n",
            "0.8831034382506087\n",
            "0.3082274180298899\n",
            "0.33250032719974376\n",
            "0.029532039489988872\n",
            "0.030445082948345647\n",
            "0.0010434782381220282\n",
            "0.0010591032377814075\n",
            "1.7216434809871613e-05\n",
            "1.7355685385539693e-05\n",
            "1.4979986170354006e-07\n",
            "1.5049582154615725e-07\n",
            "7.361113719989527e-10\n",
            "7.381428481879109e-10\n",
            "2.1217640195784966e-12\n",
            "2.1252908879621046e-12\n",
            "3.647888377163062e-15\n",
            "3.6515301825246755e-15\n",
            "3.7376423448143746e-18\n",
            "3.739838609012717e-18\n",
            "2.2398408689437905e-21\n",
            "2.2405836531017794e-21\n",
            "7.535491457859094e-25\n",
            "7.536799702903861e-25\n",
            "1.3213274952148733e-28\n",
            "1.3214323225421784e-28\n",
            "1.0547440957238047e-32\n",
            "1.0547729833250242e-32\n",
            "2.897061156776033e-37\n",
            "2.897072685991079e-37\n"
          ],
          "name": "stdout"
        }
      ]
    }
  ]
}