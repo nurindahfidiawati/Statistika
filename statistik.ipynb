{
  "nbformat": 4,
  "nbformat_minor": 0,
  "metadata": {
    "colab": {
      "name": "statistik.ipynb",
      "provenance": [],
      "collapsed_sections": [],
      "authorship_tag": "ABX9TyNBAV85ZhyzgohaRo1xPE73",
      "include_colab_link": true
    },
    "kernelspec": {
      "name": "python3",
      "display_name": "Python 3"
    },
    "language_info": {
      "name": "python"
    }
  },
  "cells": [
    {
      "cell_type": "markdown",
      "metadata": {
        "id": "view-in-github",
        "colab_type": "text"
      },
      "source": [
        "<a href=\"https://colab.research.google.com/github/nurindahfidiawati/Statistika/blob/master/statistik.ipynb\" target=\"_parent\"><img src=\"https://colab.research.google.com/assets/colab-badge.svg\" alt=\"Open In Colab\"/></a>"
      ]
    },
    {
      "cell_type": "code",
      "metadata": {
        "id": "pLW5LgF7L12Y",
        "colab": {
          "base_uri": "https://localhost:8080/"
        },
        "outputId": "5ff6c44f-9f71-4d32-f81b-51c2360c0a47"
      },
      "source": [
        "import pandas as pd\n",
        "import matplotlib.pyplot as plt\n",
        "\n",
        "df = pd.read_csv('nilaiSiswa.csv')\n",
        "\n",
        "print(df.to_string())"
      ],
      "execution_count": null,
      "outputs": [
        {
          "output_type": "stream",
          "text": [
            "                          namaSiswa  nilai\n",
            "0                        M. Junaidi     51\n",
            "1                      Bayu Saputra     52\n",
            "2                  Moh. Abdus Salam     52\n",
            "3                Yusron Rahmatullah     52\n",
            "4                    Andre Kuswanto     52\n",
            "5                           Andrian     53\n",
            "6                     Fauzan Ismail     55\n",
            "7                         Moh. Aril     56\n",
            "8                       Moh. Fathir     57\n",
            "9                         Lian Novi     59\n",
            "10             Martania Diana Putri     60\n",
            "11                       Rohmaniati     60\n",
            "12                Lailatus Sakdiyah     60\n",
            "13               Moh. Ahsin Romayan     60\n",
            "14          Rico Adriansyah Prayoga     60\n",
            "15                      Ahmad Yudis     61\n",
            "16                Dana Riski Rosadi     61\n",
            "17                   Kelvin Maulana     62\n",
            "18                Raditya Julianton     62\n",
            "19      Tri Endah Feni Sartika Dewi     64\n",
            "20                  Reqsi Dio Farma     66\n",
            "21             Mochamad Daniel Reza     66\n",
            "22       Selya Chandra Dewi Pratama     68\n",
            "23                   Alvina Dzahira     68\n",
            "24            Anggun Puji Anggraini     68\n",
            "25                           Endang     68\n",
            "26         Bella Amalia Leonitasari     68\n",
            "27                      Heri Irawan     68\n",
            "28         Al Faruk Putra Ferdinata     68\n",
            "29   Ryan Yuzrizal Abdillah Pratama     68\n",
            "30                     Ilyas Efendi     69\n",
            "31        Izzatun Fadilatul Maulida     70\n",
            "32                Nia Ganis Zulviah     70\n",
            "33         Ardini Mau Datus Saniyah     71\n",
            "34                     Putri Nabila     72\n",
            "35               Afkarina Damayanti     72\n",
            "36               Filbeldatun Jannah     72\n",
            "37                    Irma Firnanda     72\n",
            "38           Moh Varis Muhtaz Ihwan     72\n",
            "39                Halimatus Sa'adah     72\n",
            "40                 Ria Nur Hidayati     72\n",
            "41                Moh. Rizki Efendi     74\n",
            "42            Dimas Wahyu Ramadhani     74\n",
            "43         Mohammad Fitroh Ramadani     74\n",
            "44              Mariska Nova Abelia     76\n",
            "45     Fatimah Azzahra Mutiara Hati     76\n",
            "46            Fiqky Anggian Purnama     76\n",
            "47             Muhammad Ajay Wijaya     76\n",
            "48           Muhammad Bagas Maulana     76\n",
            "49                    Firda Meirani     76\n",
            "50         Mohammad Ryan Firmansyah     76\n",
            "51             Muhammad Rizal Bisri     76\n",
            "52      Zira Alivia Tunatia Ashrofi     76\n",
            "53                 Cindy Febriyanti     76\n",
            "54            Neneng Aidatul Fitria     76\n",
            "55                      Siti Fadila     76\n",
            "56                   Siti Nur Aliya     78\n",
            "57                     Reza Maulana     78\n",
            "58        Alexa Ariella Arissiyanto     78\n",
            "59          Moch. Sapto Adi Nugroho     78\n",
            "60                     Saiful Bahri     78\n",
            "61                          Sugiono     78\n",
            "62       Arief Fathurrohman Zaelani     78\n",
            "63                 Ameliatul Jannah     80\n",
            "64            Della Amilia Nilasari     80\n",
            "65            Dwi Febiola Anggraini     80\n",
            "66                   Erlin Firnatih     80\n",
            "67                    Ita Fatmawati     80\n",
            "68                M. Rivaldo Hafifi     80\n",
            "69      Maulidatul Fiqriatin Nagita     80\n",
            "70                   Moch. Alfariji     80\n",
            "71             Muhammad Adi Saputra     80\n",
            "72                    Reza Aviludin     80\n",
            "73                 Elsa Puspitasari     80\n",
            "74                    Feri Fadillah     80\n",
            "75                  Imroatul Afiyah     80\n",
            "76       Ahmad Faris Taufiqurrohman     80\n",
            "77                 Lailatus Sa'adah     80\n",
            "78                   Selamet Riyadi     80\n",
            "79                      Adityananda     80\n",
            "80          Aria Muhammad Romadhoni     80\n",
            "81          Aria Muhammad Romadhoni     80\n",
            "82                Nailatul Makkiyah     80\n",
            "83            Linda Lailatul Jannah     82\n",
            "84              Lutfiyatus Sya'adah     82\n",
            "85                   Fara Salzabila     82\n",
            "86                   M. Wahyu Agung     83\n",
            "87                 Rosa Ayu Nirmala     84\n",
            "88                  Agung Priyojoyo     84\n",
            "89                    Dimas Saputra     84\n",
            "90                      Aina Amalia     84\n",
            "91              Akbar Maulana Yusup     84\n",
            "92           Farhan Toriqil Hidayat     84\n",
            "93                 Lailatul Badriah     84\n",
            "94                          Masrofi     84\n",
            "95       Moch. Hayral Zidfi Maulana     84\n",
            "96      Moch. Ilham Nisfi Ramadhani     84\n",
            "97        Mohammad Faris Al Haizzan     84\n",
            "98              Noval Dwi Kurniawan     84\n",
            "99                        Salsabila     84\n",
            "100              Zayyidatul Fatimah     84\n",
            "101                Imroatun Hasanah     86\n",
            "102   Sendi Ardiansah Choirul Rozak     86\n",
            "103                       Moh. Hopi     86\n",
            "104                Ayu Puspita Sari     86\n",
            "105                 Maria Magdalena     86\n",
            "106                     Rio Febrian     86\n",
            "107                 Ulfatun Hasanah     86\n",
            "108                   Sinta Nuraini     88\n",
            "109              Dhony Fajriyansyah     88\n",
            "110           Septian Ayu Dian Sari     88\n",
            "111       Ahmad Taufik Hidayatullah     88\n",
            "112              Ahmad Taufik Yunus     88\n",
            "113            Moh. Syahriel Efendi     88\n",
            "114             Mohammad Ivan Tasir     88\n",
            "115            Muhammad Abdul Gofur     88\n",
            "116                    Nia Ramadani     88\n",
            "117                Sindi Zaskia R.M     88\n",
            "118                        Susianti     88\n",
            "119                       Umi Hanik     88\n"
          ],
          "name": "stdout"
        }
      ]
    },
    {
      "cell_type": "code",
      "metadata": {
        "id": "vnNeUaWv0rEo"
      },
      "source": [
        "nilai = df['nilai']"
      ],
      "execution_count": null,
      "outputs": []
    },
    {
      "cell_type": "code",
      "metadata": {
        "colab": {
          "base_uri": "https://localhost:8080/"
        },
        "id": "fHWuy_XSPUYJ",
        "outputId": "1dee93a0-6254-4ef7-9c9c-03174500bde3"
      },
      "source": [
        "mean = nilai.mean()\n",
        "mean"
      ],
      "execution_count": null,
      "outputs": [
        {
          "output_type": "execute_result",
          "data": {
            "text/plain": [
              "75.43333333333334"
            ]
          },
          "metadata": {
            "tags": []
          },
          "execution_count": 22
        }
      ]
    },
    {
      "cell_type": "code",
      "metadata": {
        "colab": {
          "base_uri": "https://localhost:8080/"
        },
        "id": "ujcQrCYtf9EX",
        "outputId": "f7742bcf-9eb4-49c4-9df6-a43258547a3f"
      },
      "source": [
        "median = nilai.median()\n",
        "median"
      ],
      "execution_count": null,
      "outputs": [
        {
          "output_type": "execute_result",
          "data": {
            "text/plain": [
              "78.0"
            ]
          },
          "metadata": {
            "tags": []
          },
          "execution_count": 23
        }
      ]
    },
    {
      "cell_type": "code",
      "metadata": {
        "colab": {
          "base_uri": "https://localhost:8080/"
        },
        "id": "Q3xUClFWgLe8",
        "outputId": "18b729e3-a2f6-4716-97f8-055ac7b915e8"
      },
      "source": [
        "modus= nilai.mode()\n",
        "modus"
      ],
      "execution_count": null,
      "outputs": [
        {
          "output_type": "execute_result",
          "data": {
            "text/plain": [
              "0    80\n",
              "dtype: int64"
            ]
          },
          "metadata": {
            "tags": []
          },
          "execution_count": 24
        }
      ]
    },
    {
      "cell_type": "code",
      "metadata": {
        "colab": {
          "base_uri": "https://localhost:8080/",
          "height": 335
        },
        "id": "50opkY15kFqD",
        "outputId": "38adbfe8-b429-4a93-caa2-5fd74fe6beba"
      },
      "source": [
        "#grafik, mean,median, modus\n",
        "\n",
        "plt.figure(figsize=(15,5))\n",
        "plt.hist(nilai,bins=35,color='purple')\n",
        "plt.axvline(mean,color='red',label='Mean')\n",
        "plt.axvline(median,color='yellow',label='Median')\n",
        "plt.axvline(modus[0],color='green',label='Modus')\n",
        "plt.xlabel('nilai_rasio')\n",
        "plt.ylabel('frekuensi')\n",
        "plt.legend()\n",
        "plt.show()"
      ],
      "execution_count": null,
      "outputs": [
        {
          "output_type": "display_data",
          "data": {
            "image/png": "[encoded data removed]",
            "text/plain": [
              "<Figure size 1080x360 with 1 Axes>"
            ]
          },
          "metadata": {
            "tags": [],
            "needs_background": "light"
          }
        }
      ]
    },
    {
      "cell_type": "code",
      "metadata": {
        "colab": {
          "base_uri": "https://localhost:8080/"
        },
        "id": "RJtF0Eo0kDTi",
        "outputId": "b2ea5b06-0524-4194-b3dc-c23b7ea5f4d1"
      },
      "source": [
        "#range\n",
        "\n",
        "range = nilai.max() - nilai.min()\n",
        "range"
      ],
      "execution_count": null,
      "outputs": [
        {
          "output_type": "execute_result",
          "data": {
            "text/plain": [
              "37"
            ]
          },
          "metadata": {
            "tags": []
          },
          "execution_count": 26
        }
      ]
    },
    {
      "cell_type": "code",
      "metadata": {
        "colab": {
          "base_uri": "https://localhost:8080/"
        },
        "id": "II9wvFvWiuvp",
        "outputId": "85e2e7e7-eac1-4c4c-89f6-8ee05611dc62"
      },
      "source": [
        "#standar deviasi\n",
        "\n",
        "standarDeviasi = nilai.std()\n",
        "standarDeviasi"
      ],
      "execution_count": null,
      "outputs": [
        {
          "output_type": "execute_result",
          "data": {
            "text/plain": [
              "10.036683416627339"
            ]
          },
          "metadata": {
            "tags": []
          },
          "execution_count": 27
        }
      ]
    },
    {
      "cell_type": "code",
      "metadata": {
        "colab": {
          "base_uri": "https://localhost:8080/"
        },
        "id": "J_U4SiDZjS4_",
        "outputId": "6a5dbcd4-82ed-48b4-deca-5716382f3423"
      },
      "source": [
        "#mean deviasi\n",
        "meanDeviasi = nilai.var()\n",
        "meanDeviasi"
      ],
      "execution_count": null,
      "outputs": [
        {
          "output_type": "execute_result",
          "data": {
            "text/plain": [
              "100.73501400560222"
            ]
          },
          "metadata": {
            "tags": []
          },
          "execution_count": 28
        }
      ]
    }
  ]
}